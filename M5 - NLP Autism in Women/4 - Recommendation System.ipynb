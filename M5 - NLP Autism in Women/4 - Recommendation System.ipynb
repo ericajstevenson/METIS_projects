{
 "cells": [
  {
   "cell_type": "markdown",
   "id": "22b8eeac",
   "metadata": {},
   "source": [
    "# Recommendation system using Cosine Similarity\n",
    "\n",
    "Similarity is determined by looking at similarity in nouns and verbs (as found with SpaCy). I combine all the autism related forums for this one."
   ]
  },
  {
   "cell_type": "code",
   "execution_count": 1,
   "id": "ce2f3842",
   "metadata": {},
   "outputs": [],
   "source": [
    "import pandas as pd\n",
    "import numpy as np\n",
    "\n",
    "from sklearn.feature_extraction.text import CountVectorizer\n",
    "from sklearn.metrics.pairwise import cosine_similarity\n"
   ]
  },
  {
   "cell_type": "code",
   "execution_count": 2,
   "id": "c955df7d",
   "metadata": {},
   "outputs": [],
   "source": [
    "autism_fem = pd.read_pickle('autism_fem.pkl')\n",
    "autism_gen = pd.read_pickle('autism_gen.pkl')\n"
   ]
  },
  {
   "cell_type": "code",
   "execution_count": 3,
   "id": "d5e9fef9",
   "metadata": {},
   "outputs": [
    {
     "data": {
      "text/plain": [
       "(13119, 21)"
      ]
     },
     "execution_count": 3,
     "metadata": {},
     "output_type": "execute_result"
    }
   ],
   "source": [
    "autism_total = pd.concat([autism_fem,autism_gen])\n",
    "autism_total.shape"
   ]
  },
  {
   "cell_type": "code",
   "execution_count": 4,
   "id": "e1f2b16f",
   "metadata": {},
   "outputs": [],
   "source": [
    "autism_total['full_text'] = autism_total.title + '. ' + autism_total.selftext\n"
   ]
  },
  {
   "cell_type": "code",
   "execution_count": 5,
   "id": "35c94b52",
   "metadata": {},
   "outputs": [
    {
     "data": {
      "text/plain": [
       "(13075, 22)"
      ]
     },
     "execution_count": 5,
     "metadata": {},
     "output_type": "execute_result"
    }
   ],
   "source": [
    "autism_total = autism_total.drop_duplicates(subset=[\"selftext\"], keep='first').reset_index()\n",
    "autism_total.shape"
   ]
  },
  {
   "cell_type": "code",
   "execution_count": 6,
   "id": "12113007",
   "metadata": {},
   "outputs": [
    {
     "data": {
      "text/html": [
       "<div>\n",
       "<style scoped>\n",
       "    .dataframe tbody tr th:only-of-type {\n",
       "        vertical-align: middle;\n",
       "    }\n",
       "\n",
       "    .dataframe tbody tr th {\n",
       "        vertical-align: top;\n",
       "    }\n",
       "\n",
       "    .dataframe thead th {\n",
       "        text-align: right;\n",
       "    }\n",
       "</style>\n",
       "<table border=\"1\" class=\"dataframe\">\n",
       "  <thead>\n",
       "    <tr style=\"text-align: right;\">\n",
       "      <th></th>\n",
       "      <th>index</th>\n",
       "      <th>created_utc</th>\n",
       "      <th>title</th>\n",
       "      <th>selftext</th>\n",
       "      <th>full_text</th>\n",
       "      <th>spacy_doc</th>\n",
       "      <th>full_clean</th>\n",
       "      <th>nouns</th>\n",
       "      <th>adj</th>\n",
       "      <th>verb</th>\n",
       "      <th>...</th>\n",
       "      <th>num_comments</th>\n",
       "      <th>ID</th>\n",
       "      <th>author</th>\n",
       "      <th>name</th>\n",
       "      <th>verb_lem</th>\n",
       "      <th>noun_lem</th>\n",
       "      <th>sentiment_score</th>\n",
       "      <th>full_text_nouns</th>\n",
       "      <th>category</th>\n",
       "      <th>NandV</th>\n",
       "    </tr>\n",
       "  </thead>\n",
       "  <tbody>\n",
       "    <tr>\n",
       "      <th>0</th>\n",
       "      <td>0</td>\n",
       "      <td>2021-02-09 23:20:33</td>\n",
       "      <td>Origin Story Megathread</td>\n",
       "      <td>We get a lot of foot traffic from people who a...</td>\n",
       "      <td>Origin Story Megathread. We get a lot of foot ...</td>\n",
       "      <td>(Origin, Story, Megathread, ., We, get, a, lot...</td>\n",
       "      <td>origin story megathread  we get a lot of foot ...</td>\n",
       "      <td>lot foot traffic people process autism diagnos...</td>\n",
       "      <td>turbulent right medical individual new unusual...</td>\n",
       "      <td>get discovering investigating considering goin...</td>\n",
       "      <td>...</td>\n",
       "      <td>306</td>\n",
       "      <td>lggazi</td>\n",
       "      <td>idungonwent</td>\n",
       "      <td>t3_lggazi</td>\n",
       "      <td>get discover investigate consider go want know...</td>\n",
       "      <td>lot foot traffic people process autism diagnos...</td>\n",
       "      <td>0.9324</td>\n",
       "      <td>lot foot traffic process discovering investiga...</td>\n",
       "      <td>fem</td>\n",
       "      <td>lot foot traffic people process autism diagnos...</td>\n",
       "    </tr>\n",
       "    <tr>\n",
       "      <th>1</th>\n",
       "      <td>1</td>\n",
       "      <td>2022-04-16 16:40:16</td>\n",
       "      <td>Study finds indicators that autistic people co...</td>\n",
       "      <td>**Lay abstract**  \\nSharing information with o...</td>\n",
       "      <td>Study finds indicators that autistic people co...</td>\n",
       "      <td>(Study, finds, indicators, that, autistic, peo...</td>\n",
       "      <td>study finds indicators that autistic people co...</td>\n",
       "      <td>Study indicators people people communication d...</td>\n",
       "      <td>autistic fellow autistic allistic autistic abs...</td>\n",
       "      <td>finds commicate arise try communicate Sharing ...</td>\n",
       "      <td>...</td>\n",
       "      <td>26</td>\n",
       "      <td>u51o7g</td>\n",
       "      <td>Hoihe</td>\n",
       "      <td>t3_u51o7g</td>\n",
       "      <td>find commicate arise try communicate sharing r...</td>\n",
       "      <td>study indicator people people communication de...</td>\n",
       "      <td>0.9775</td>\n",
       "      <td>communication information ability communicatio...</td>\n",
       "      <td>fem</td>\n",
       "      <td>Study indicators people people communication d...</td>\n",
       "    </tr>\n",
       "    <tr>\n",
       "      <th>2</th>\n",
       "      <td>2</td>\n",
       "      <td>2022-04-16 17:38:28</td>\n",
       "      <td>so, are your parents terrorizing you too?</td>\n",
       "      <td>lol i am trying to hold my tears back while wr...</td>\n",
       "      <td>so, are your parents terrorizing you too?. lol...</td>\n",
       "      <td>(so, ,, are, your, parents, terrorizing, you, ...</td>\n",
       "      <td>so  are your parents terrorizing you too   lol...</td>\n",
       "      <td>parents tears x200B possibility diagnosis ther...</td>\n",
       "      <td>difficult dominant sure nicer neutral few rude...</td>\n",
       "      <td>terrorizing lol trying hold writing discussing...</td>\n",
       "      <td>...</td>\n",
       "      <td>10</td>\n",
       "      <td>u52wf1</td>\n",
       "      <td>dykenergy</td>\n",
       "      <td>t3_u52wf1</td>\n",
       "      <td>terrorize lol try hold write discussing say di...</td>\n",
       "      <td>parent tear x200b possibility diagnosis therap...</td>\n",
       "      <td>-0.9584</td>\n",
       "      <td>lol i x200B possibility diagnosis therapist ma...</td>\n",
       "      <td>fem</td>\n",
       "      <td>parents tears x200B possibility diagnosis ther...</td>\n",
       "    </tr>\n",
       "    <tr>\n",
       "      <th>3</th>\n",
       "      <td>3</td>\n",
       "      <td>2022-04-16 13:52:13</td>\n",
       "      <td>what are some of your social interactions that...</td>\n",
       "      <td>so obviously its no rare occasion for any of u...</td>\n",
       "      <td>what are some of your social interactions that...</td>\n",
       "      <td>(what, are, some, of, your, social, interactio...</td>\n",
       "      <td>what are some of your social interactions that...</td>\n",
       "      <td>interactions occasion misunderstood NTs intera...</td>\n",
       "      <td>social wrong rare social own social social due...</td>\n",
       "      <td>gone get considering views tend blow think try...</td>\n",
       "      <td>...</td>\n",
       "      <td>38</td>\n",
       "      <td>u4y9ji</td>\n",
       "      <td>petpuppy</td>\n",
       "      <td>t3_u4y9ji</td>\n",
       "      <td>go get consider view tend blow think try find ...</td>\n",
       "      <td>interaction occasion misunderstood NTs interac...</td>\n",
       "      <td>-0.8480</td>\n",
       "      <td>occasion misunderstood faux pas proportion hum...</td>\n",
       "      <td>fem</td>\n",
       "      <td>interactions occasion misunderstood NTs intera...</td>\n",
       "    </tr>\n",
       "    <tr>\n",
       "      <th>4</th>\n",
       "      <td>4</td>\n",
       "      <td>2022-04-16 16:44:05</td>\n",
       "      <td>Human rights activist bullied for her autistic...</td>\n",
       "      <td>I’ve never heard about this woman before, but ...</td>\n",
       "      <td>Human rights activist bullied for her autistic...</td>\n",
       "      <td>(Human, rights, activist, bullied, for, her, a...</td>\n",
       "      <td>human rights activist bullied for her autistic...</td>\n",
       "      <td>rights activist traits woman People people thi...</td>\n",
       "      <td>Human autistic furious autistic weird childish...</td>\n",
       "      <td>bullied heard got read treated call try ’m hea...</td>\n",
       "      <td>...</td>\n",
       "      <td>2</td>\n",
       "      <td>u51r1d</td>\n",
       "      <td>Bitter-Statement6471</td>\n",
       "      <td>t3_u51r1d</td>\n",
       "      <td>bully hear got read treat call try ' m hear say ’</td>\n",
       "      <td>right activist trait woman People people thing...</td>\n",
       "      <td>-0.4019</td>\n",
       "      <td>activist woman sure https</td>\n",
       "      <td>fem</td>\n",
       "      <td>rights activist traits woman People people thi...</td>\n",
       "    </tr>\n",
       "  </tbody>\n",
       "</table>\n",
       "<p>5 rows × 23 columns</p>\n",
       "</div>"
      ],
      "text/plain": [
       "   index         created_utc  \\\n",
       "0      0 2021-02-09 23:20:33   \n",
       "1      1 2022-04-16 16:40:16   \n",
       "2      2 2022-04-16 17:38:28   \n",
       "3      3 2022-04-16 13:52:13   \n",
       "4      4 2022-04-16 16:44:05   \n",
       "\n",
       "                                               title  \\\n",
       "0                            Origin Story Megathread   \n",
       "1  Study finds indicators that autistic people co...   \n",
       "2          so, are your parents terrorizing you too?   \n",
       "3  what are some of your social interactions that...   \n",
       "4  Human rights activist bullied for her autistic...   \n",
       "\n",
       "                                            selftext  \\\n",
       "0  We get a lot of foot traffic from people who a...   \n",
       "1  **Lay abstract**  \\nSharing information with o...   \n",
       "2  lol i am trying to hold my tears back while wr...   \n",
       "3  so obviously its no rare occasion for any of u...   \n",
       "4  I’ve never heard about this woman before, but ...   \n",
       "\n",
       "                                           full_text  \\\n",
       "0  Origin Story Megathread. We get a lot of foot ...   \n",
       "1  Study finds indicators that autistic people co...   \n",
       "2  so, are your parents terrorizing you too?. lol...   \n",
       "3  what are some of your social interactions that...   \n",
       "4  Human rights activist bullied for her autistic...   \n",
       "\n",
       "                                           spacy_doc  \\\n",
       "0  (Origin, Story, Megathread, ., We, get, a, lot...   \n",
       "1  (Study, finds, indicators, that, autistic, peo...   \n",
       "2  (so, ,, are, your, parents, terrorizing, you, ...   \n",
       "3  (what, are, some, of, your, social, interactio...   \n",
       "4  (Human, rights, activist, bullied, for, her, a...   \n",
       "\n",
       "                                          full_clean  \\\n",
       "0  origin story megathread  we get a lot of foot ...   \n",
       "1  study finds indicators that autistic people co...   \n",
       "2  so  are your parents terrorizing you too   lol...   \n",
       "3  what are some of your social interactions that...   \n",
       "4  human rights activist bullied for her autistic...   \n",
       "\n",
       "                                               nouns  \\\n",
       "0  lot foot traffic people process autism diagnos...   \n",
       "1  Study indicators people people communication d...   \n",
       "2  parents tears x200B possibility diagnosis ther...   \n",
       "3  interactions occasion misunderstood NTs intera...   \n",
       "4  rights activist traits woman People people thi...   \n",
       "\n",
       "                                                 adj  \\\n",
       "0  turbulent right medical individual new unusual...   \n",
       "1  autistic fellow autistic allistic autistic abs...   \n",
       "2  difficult dominant sure nicer neutral few rude...   \n",
       "3  social wrong rare social own social social due...   \n",
       "4  Human autistic furious autistic weird childish...   \n",
       "\n",
       "                                                verb  ... num_comments  \\\n",
       "0  get discovering investigating considering goin...  ...          306   \n",
       "1  finds commicate arise try communicate Sharing ...  ...           26   \n",
       "2  terrorizing lol trying hold writing discussing...  ...           10   \n",
       "3  gone get considering views tend blow think try...  ...           38   \n",
       "4  bullied heard got read treated call try ’m hea...  ...            2   \n",
       "\n",
       "       ID                author       name  \\\n",
       "0  lggazi           idungonwent  t3_lggazi   \n",
       "1  u51o7g                 Hoihe  t3_u51o7g   \n",
       "2  u52wf1             dykenergy  t3_u52wf1   \n",
       "3  u4y9ji              petpuppy  t3_u4y9ji   \n",
       "4  u51r1d  Bitter-Statement6471  t3_u51r1d   \n",
       "\n",
       "                                            verb_lem  \\\n",
       "0  get discover investigate consider go want know...   \n",
       "1  find commicate arise try communicate sharing r...   \n",
       "2  terrorize lol try hold write discussing say di...   \n",
       "3  go get consider view tend blow think try find ...   \n",
       "4  bully hear got read treat call try ' m hear say ’   \n",
       "\n",
       "                                            noun_lem sentiment_score  \\\n",
       "0  lot foot traffic people process autism diagnos...          0.9324   \n",
       "1  study indicator people people communication de...          0.9775   \n",
       "2  parent tear x200b possibility diagnosis therap...         -0.9584   \n",
       "3  interaction occasion misunderstood NTs interac...         -0.8480   \n",
       "4  right activist trait woman People people thing...         -0.4019   \n",
       "\n",
       "                                     full_text_nouns category  \\\n",
       "0  lot foot traffic process discovering investiga...      fem   \n",
       "1  communication information ability communicatio...      fem   \n",
       "2  lol i x200B possibility diagnosis therapist ma...      fem   \n",
       "3  occasion misunderstood faux pas proportion hum...      fem   \n",
       "4                         activist woman sure https       fem   \n",
       "\n",
       "                                               NandV  \n",
       "0  lot foot traffic people process autism diagnos...  \n",
       "1  Study indicators people people communication d...  \n",
       "2  parents tears x200B possibility diagnosis ther...  \n",
       "3  interactions occasion misunderstood NTs intera...  \n",
       "4  rights activist traits woman People people thi...  \n",
       "\n",
       "[5 rows x 23 columns]"
      ]
     },
     "execution_count": 6,
     "metadata": {},
     "output_type": "execute_result"
    }
   ],
   "source": [
    "autism_total[\"NandV\"] = autism_total.nouns + ' ' + autism_total.verb\n",
    "autism_total.head(5)"
   ]
  },
  {
   "cell_type": "code",
   "execution_count": 7,
   "id": "7b57e9d6",
   "metadata": {
    "scrolled": true
   },
   "outputs": [
    {
     "name": "stdout",
     "output_type": "stream",
     "text": [
      "Count Matrix: [[0 0 0 ... 0 0 0]\n",
      " [0 0 0 ... 0 0 0]\n",
      " [0 0 0 ... 0 0 0]\n",
      " ...\n",
      " [0 0 0 ... 0 0 0]\n",
      " [0 0 0 ... 0 0 0]\n",
      " [0 0 0 ... 0 0 0]]\n"
     ]
    }
   ],
   "source": [
    "cv = CountVectorizer()\n",
    "count_matrix = cv.fit_transform(autism_total.NandV)\n",
    "print(\"Count Matrix:\", count_matrix.toarray())"
   ]
  },
  {
   "cell_type": "markdown",
   "id": "882167f9",
   "metadata": {},
   "source": [
    "#### -----------------------------------------------------------------------------------------------------------------------------------------------------------"
   ]
  },
  {
   "cell_type": "markdown",
   "id": "c949c5e1",
   "metadata": {},
   "source": [
    "#### This is where you enter the some text to search for similar posts:\n",
    "##### some ideas:\n",
    "- \"late autism diagnosis women\"\n",
    "- \"sensitivity clothing\"\n",
    "- \"dealing with a condescending unsupportive family\"\n",
    "- \"difficulty with work life balance\"\n",
    "- \"eating disorder\"\n",
    "- \"favorite stims\"\n",
    "- \"train collection?\"\n",
    "- \"emotional support animal\"\n",
    "- \"Greta Thunberg\"\n",
    "- \"friends at school\""
   ]
  },
  {
   "cell_type": "code",
   "execution_count": 8,
   "id": "5af1bfb5",
   "metadata": {},
   "outputs": [],
   "source": [
    "search_text = \"late autism diagnosis women\""
   ]
  },
  {
   "cell_type": "markdown",
   "id": "f28f81f3",
   "metadata": {},
   "source": [
    "#### -----------------------------------------------------------------------------------------------------------------------------------------------------------"
   ]
  },
  {
   "cell_type": "code",
   "execution_count": 9,
   "id": "166b367a",
   "metadata": {},
   "outputs": [],
   "source": [
    "cvtrans = cv.transform([search_text])\n",
    "   \n",
    "cosine_similarity(cvtrans,count_matrix)\n",
    "\n",
    "index = np.argmax(cosine_similarity(cvtrans,count_matrix))"
   ]
  },
  {
   "cell_type": "markdown",
   "id": "743fec44",
   "metadata": {},
   "source": [
    "#### This is the post that is most similar to your search:"
   ]
  },
  {
   "cell_type": "code",
   "execution_count": 10,
   "id": "1451cbd8",
   "metadata": {
    "scrolled": false
   },
   "outputs": [
    {
     "name": "stdout",
     "output_type": "stream",
     "text": [
      "The cosine similarity score for this search is: 0.586 \n",
      "\n",
      "An article about autism in adult women\n",
      "\n",
      "[https://www.theguardian.com/society/2021/nov/19/diagnosis-women-autism-later-life](https://www.theguardian.com/society/2021/nov/19/diagnosis-women-autism-later-life)\n",
      "\n",
      "‘Diagnosis is rebirth’: women who found out they were autistic as adults\n",
      "\n",
      "Women from around the world describe the life-changing impact of finally receiving a diagnosis\n"
     ]
    }
   ],
   "source": [
    "print(f\"The cosine similarity score for this search is: {np.max(cosine_similarity(cvtrans,count_matrix).round(3))} \\n\")\n",
    "print(autism_total.title[index] + \"\\n\\n\" + autism_total.selftext[index])\n"
   ]
  },
  {
   "cell_type": "markdown",
   "id": "3274e23e",
   "metadata": {},
   "source": [
    "# Search post title for top related posts"
   ]
  },
  {
   "cell_type": "markdown",
   "id": "9db68482",
   "metadata": {},
   "source": [
    "#### -----------------------------------------------------------------------------------------------------------------------------------------------------------\n",
    "\n",
    "#### This is where you enter the title of the post you like (must be exact copy / paste):\n",
    "##### some ideas:\n",
    "- \"things I wish professionals understood\"\n",
    "- \"Privilege and autism\"\n",
    "- \"Weighted Blanket question\"\n",
    "- \"did anyone else have a very hard time transitioning from baths to showers as a kid?\"\n",
    "- \"I just realised I deal with sensory overload by dissociating\"\n",
    "- \"Constant sensory overload\"\n",
    "- \"Good eye contact\""
   ]
  },
  {
   "cell_type": "code",
   "execution_count": 11,
   "id": "398cf742",
   "metadata": {},
   "outputs": [],
   "source": [
    "post_user_likes = \"Good eye contact\"\n"
   ]
  },
  {
   "cell_type": "markdown",
   "id": "38ab8a95",
   "metadata": {},
   "source": [
    "#### -----------------------------------------------------------------------------------------------------------------------------------------------------------"
   ]
  },
  {
   "cell_type": "code",
   "execution_count": 12,
   "id": "1fe15e28",
   "metadata": {},
   "outputs": [
    {
     "data": {
      "text/plain": [
       "5775"
      ]
     },
     "execution_count": 12,
     "metadata": {},
     "output_type": "execute_result"
    }
   ],
   "source": [
    "# Function that returns the index of a title entered (must be exact)\n",
    "def get_index_from_title(title):\n",
    "    return autism_total[autism_total.title == title].index.values[0] #[index].values[0]\n",
    "post_index = get_index_from_title(post_user_likes)\n",
    "post_index\n"
   ]
  },
  {
   "cell_type": "code",
   "execution_count": 13,
   "id": "772727c0",
   "metadata": {
    "scrolled": true
   },
   "outputs": [
    {
     "data": {
      "text/plain": [
       "[(5775, 0.9999999999999999),\n",
       " (249, 0.6758552604433828),\n",
       " (8494, 0.6638357975446151),\n",
       " (127, 0.65446289300592),\n",
       " (942, 0.6517861419401112)]"
      ]
     },
     "execution_count": 13,
     "metadata": {},
     "output_type": "execute_result"
    }
   ],
   "source": [
    "# List and sort posts that are similar to that of the entered post\n",
    "cosine_sim = cosine_similarity(count_matrix)\n",
    "similar_posts = list(enumerate(cosine_sim[post_index]))\n",
    "sorted_similar_posts = sorted(similar_posts, key=lambda x:x[1], reverse=True)\n",
    "sorted_similar_posts[:5]"
   ]
  },
  {
   "cell_type": "code",
   "execution_count": 14,
   "id": "dab2e0a1",
   "metadata": {},
   "outputs": [
    {
     "name": "stdout",
     "output_type": "stream",
     "text": [
      "Original post plus 5 related posts:\n",
      "\n",
      "\n",
      "Good eye contact. I'm wondering if any if you have naturally good eye contact. I'm not talking about learning it or masking, but just having inherently naturally good eye contact that you have had since a child.\n",
      "\n",
      "-------------------------------------------------------------------------------------------\n",
      "\n",
      "\n",
      "i prefer eye contact?. i’m not sure if it’s the eye contact, but i find that the person i’m talking to isn’t facing me or if i’m not facing them while talking it’s more difficult for me to hear them. eye contact is a tricky thing for me. with close friends and family i’m good with it and sometimes prefer because i know they’re listening, but i also have to think about it a lot when speaking to new people, how much to look way and how much time to make eye contact don’t want to stare don’t want to have 0 eye contact. i live on college campus and pass people all the time and i don’t want to make eye contact with the people i pass (still do all the time on accident and hate it and quickly divert the eyes) but i want to see their faces cuz faces are interesting to me. i was wondering if a lack of lack of eye contact probably means i don’t have autism?\n",
      "\n",
      "-------------------------------------------------------------------------------------------\n",
      "\n",
      "\n",
      "Why do YOU have trouble making eye contact?. I'm interested in individual experiences.\n",
      "\n",
      "I think for me it's that I get overwhelmed i.e. most of my brain power is taken up trying to maintain the unnatural act of eye contact and making it seem natural. I can't process anything else if I have to continue with eye contact.\n",
      "\n",
      "Also, I instinctively look away if someone makes an unexpected eye contact. Idk what's that about.\n",
      "\n",
      "Edit: I didn't expect the variety of answers here. Thought it'd be somewhat similar for everyone. I'm even more confused now :D\n",
      "\n",
      "-------------------------------------------------------------------------------------------\n",
      "\n",
      "\n",
      "What's Eye Contact Like for You?. Hi. I'm not sure if I'm actually on the spectrum yet or not but I am looking into getting assessed. Until then though I am curious about a few things so I thought I'd join this sub and see if I relate with others. What's eye contact like for you?\n",
      "\n",
      "For me, I can pretty easily make eye contact with family that I'm comfortable with but it's usually fleeting because I find it hard to think when looking in someone's eyes. I have a hard time actually comprehending what the other person is saying or thinking about what I'm trying to say.\n",
      "\n",
      " With other people I avoid eye contact as much as possible and focus on the rest of their face. With other people, strangers, even good friends, eye contact almost feels like initially a physical shock, a little jarring and then just uncomfortable. Idk why I can handle it and don't have that reaction to certain family members but everyone else it's uncomfortable to even make fleeting eye contact.\n",
      "\n",
      "-------------------------------------------------------------------------------------------\n",
      "\n",
      "\n",
      "Is struggling to make \"soft\" eye contact a trait of ASD?. I've always struggled with making eye contact without my eyes appearing intense. I think I tend to widen my eyes when I look others in the eye partially due to anxiety about eye contact. Sort of a \"deer in the headlights\" kind of thing and I sense that this type of eye contact makes people uncomfortable. Can anyone relate?\n",
      "\n",
      "-------------------------------------------------------------------------------------------\n",
      "\n",
      "\n",
      "Autistic people do not make eye contact?. Is it true that autistic people do not make eye contact or they do make eye contact but not as much as Neotropical does because it doesn't interesting for them to make eye contact\n",
      "\n",
      "-------------------------------------------------------------------------------------------\n",
      "\n",
      "\n",
      "Can you make eye contact with select people?. I’m usually really uncomfortable with eye contact, as it makes my insides feel like they’re on my outsides. But my boyfriend of 1.5 years has been the first person that I can hold long eye contact with, without feeling uncomfortable. I imagine it’s what it’s like for an NT to make eye contact. \n",
      "\n",
      "It wasn’t that way when we first met- he was actually scared of me at first, because I never looked at him, and he thought I hated him 😂\n",
      "\n",
      "Anyone else experience the same thing?\n",
      "\n",
      "-------------------------------------------------------------------------------------------\n",
      "\n",
      "\n"
     ]
    }
   ],
   "source": [
    "##### Function to get the post title from its index\n",
    "print(\"Original post plus 5 related posts:\\n\\n\")\n",
    "      \n",
    "def get_post_from_index(index):\n",
    "    return autism_total[autism_total.index == index][\"full_text\"].values[0]\n",
    "\n",
    "i=0\n",
    "for post in sorted_similar_posts:\n",
    "    i=i+1\n",
    "    print(get_post_from_index(post[0])+ \"\\n\\n\"+\n",
    "          \"-------------------------------------------------------------------------------------------\"+\n",
    "          \"\\n\\n\" )\n",
    "    if i>6:\n",
    "        break"
   ]
  }
 ],
 "metadata": {
  "kernelspec": {
   "display_name": "Python 3",
   "language": "python",
   "name": "python3"
  },
  "language_info": {
   "codemirror_mode": {
    "name": "ipython",
    "version": 3
   },
   "file_extension": ".py",
   "mimetype": "text/x-python",
   "name": "python",
   "nbconvert_exporter": "python",
   "pygments_lexer": "ipython3",
   "version": "3.8.8"
  }
 },
 "nbformat": 4,
 "nbformat_minor": 5
}
