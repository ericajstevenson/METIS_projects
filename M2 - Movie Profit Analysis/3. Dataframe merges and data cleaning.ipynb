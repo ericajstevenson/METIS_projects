{
 "cells": [
  {
   "cell_type": "code",
   "execution_count": 118,
   "id": "079f4a6a",
   "metadata": {},
   "outputs": [],
   "source": [
    "import pandas as pd\n",
    "import numpy as np\n",
    "\n",
    "# Display full column width (for the links)\n",
    "pd.set_option('display.max_colwidth', None)"
   ]
  },
  {
   "cell_type": "code",
   "execution_count": 119,
   "id": "526b8c52",
   "metadata": {},
   "outputs": [],
   "source": [
    "DF1 = pd.read_csv ('full_0_1999.csv',index_col=[0])\n",
    "DF2 = pd.read_csv ('full_2000_2999.csv',index_col=[0])\n",
    "DF3 = pd.read_csv ('full_3000_4999.csv',index_col=[0])\n",
    "DF4 = pd.read_csv ('full_5000_6999.csv',index_col=[0])\n",
    "DF5 = pd.read_csv ('full_7000_7990.csv',index_col=[0])\n"
   ]
  },
  {
   "cell_type": "code",
   "execution_count": 121,
   "id": "426d5ec8",
   "metadata": {
    "scrolled": true
   },
   "outputs": [
    {
     "name": "stdout",
     "output_type": "stream",
     "text": [
      "<class 'pandas.core.frame.DataFrame'>\n",
      "RangeIndex: 7989 entries, 0 to 7988\n",
      "Data columns (total 19 columns):\n",
      " #   Column                Non-Null Count  Dtype  \n",
      "---  ------                --------------  -----  \n",
      " 0   Tomatoes URL          7989 non-null   object \n",
      " 1   Title                 7989 non-null   object \n",
      " 2   Tomatometer           7989 non-null   object \n",
      " 3   Year                  7989 non-null   int64  \n",
      " 4   N_Tomatometer         7989 non-null   int64  \n",
      " 5   tconst                7989 non-null   object \n",
      " 6   isAdult               7989 non-null   int64  \n",
      " 7   runtimeMinutes        7989 non-null   object \n",
      " 8   genres                7989 non-null   object \n",
      " 9   averageRating         7989 non-null   float64\n",
      " 10  numVotes              7989 non-null   int64  \n",
      " 11  BOM url               7989 non-null   object \n",
      " 12  domestic              6315 non-null   object \n",
      " 13  international         6315 non-null   object \n",
      " 14  worldwide             6315 non-null   object \n",
      " 15  domestic_distributor  5632 non-null   object \n",
      " 16  domestic_opening      5097 non-null   object \n",
      " 17  mpaa                  5194 non-null   object \n",
      " 18  Genres                7984 non-null   object \n",
      "dtypes: float64(1), int64(4), object(14)\n",
      "memory usage: 1.2+ MB\n"
     ]
    }
   ],
   "source": [
    "frames = [DF1, DF2, DF3, DF4, DF5]\n",
    "\n",
    "result = pd.concat(frames).reset_index(drop=True)\n",
    "\n",
    "result.drop(['Unnamed: 0.1'],axis=1,inplace = True)\n",
    "\n",
    "result.info()"
   ]
  },
  {
   "cell_type": "markdown",
   "id": "a5d9d75d",
   "metadata": {},
   "source": [
    "## Clean final movies dataframe"
   ]
  },
  {
   "cell_type": "code",
   "execution_count": 168,
   "id": "b2b8d7b6",
   "metadata": {
    "scrolled": false
   },
   "outputs": [
    {
     "name": "stdout",
     "output_type": "stream",
     "text": [
      "<class 'pandas.core.frame.DataFrame'>\n",
      "RangeIndex: 7989 entries, 0 to 7988\n",
      "Data columns (total 18 columns):\n",
      " #   Column                   Non-Null Count  Dtype  \n",
      "---  ------                   --------------  -----  \n",
      " 0   Tomatoes URL             7989 non-null   object \n",
      " 1   Title                    7989 non-null   object \n",
      " 2   Tomatometer              7989 non-null   int64  \n",
      " 3   Year                     7989 non-null   int64  \n",
      " 4   N_Tomatometer            7989 non-null   int64  \n",
      " 5   tconst                   7989 non-null   object \n",
      " 6   isAdult                  7989 non-null   int64  \n",
      " 7   runtimeMinutes           7965 non-null   float64\n",
      " 8   Average_Audience_Rating  7989 non-null   float64\n",
      " 9   Number_Audience_Votes    7989 non-null   int64  \n",
      " 10  BOM url                  7989 non-null   object \n",
      " 11  Domestic_Gross           5362 non-null   float64\n",
      " 12  International_Gross      4294 non-null   float64\n",
      " 13  Worldwide_Gross          6315 non-null   float64\n",
      " 14  Domestic_Distributor     5632 non-null   object \n",
      " 15  Domestic_Opening         5097 non-null   float64\n",
      " 16  MPAA_Rating              5194 non-null   object \n",
      " 17  Genres                   7984 non-null   object \n",
      "dtypes: float64(6), int64(5), object(7)\n",
      "memory usage: 1.1+ MB\n"
     ]
    },
    {
     "name": "stderr",
     "output_type": "stream",
     "text": [
      "<ipython-input-168-076aff6b755b>:19: FutureWarning: The default value of regex will change from True to False in a future version. In addition, single character regular expressions will*not* be treated as literal strings when regex=True.\n",
      "  df['domestic']=df['domestic'].str.replace('$', '').str.replace(',', '')\n",
      "<ipython-input-168-076aff6b755b>:22: FutureWarning: The default value of regex will change from True to False in a future version. In addition, single character regular expressions will*not* be treated as literal strings when regex=True.\n",
      "  df['international']=df['international'].str.replace('$', '').str.replace(',', '')\n",
      "<ipython-input-168-076aff6b755b>:25: FutureWarning: The default value of regex will change from True to False in a future version. In addition, single character regular expressions will*not* be treated as literal strings when regex=True.\n",
      "  df['worldwide']=df['worldwide'].str.replace('$', '').str.replace(',', '')\n",
      "<ipython-input-168-076aff6b755b>:28: FutureWarning: The default value of regex will change from True to False in a future version. In addition, single character regular expressions will*not* be treated as literal strings when regex=True.\n",
      "  df['domestic_opening']=df['domestic_opening'].str.replace('$', '').str.replace(',', '')\n"
     ]
    }
   ],
   "source": [
    "df = result.copy()\n",
    "\n",
    "df['Tomatometer'] = df['Tomatometer'].str[:-1]\n",
    "df['Tomatometer'] = pd.to_numeric(df['Tomatometer'])\n",
    "\n",
    "df['Year'] = pd.to_numeric(df['Year'])\n",
    "\n",
    "df['N_Tomatometer'] = pd.to_numeric(df['N_Tomatometer'])\n",
    "\n",
    "df['isAdult'] = pd.to_numeric(df['isAdult'])\n",
    "\n",
    "df['runtimeMinutes'].replace(to_replace=r\"\\N\", value=np.nan, inplace=True)\n",
    "df['runtimeMinutes'] = pd.to_numeric(df['runtimeMinutes'])\n",
    "\n",
    "df.drop(['genres'], axis = 1, inplace = True) # there's another column with more genres\n",
    "\n",
    "df=df.replace('–', np.nan)\n",
    "\n",
    "df['domestic']=df['domestic'].str.replace('$', '').str.replace(',', '')\n",
    "df['domestic'] = pd.to_numeric(df['domestic'])\n",
    "\n",
    "df['international']=df['international'].str.replace('$', '').str.replace(',', '')\n",
    "df['international'] = pd.to_numeric(df['international'])\n",
    "\n",
    "df['worldwide']=df['worldwide'].str.replace('$', '').str.replace(',', '')\n",
    "df['worldwide'] = pd.to_numeric(df['worldwide'])\n",
    "\n",
    "df['domestic_opening']=df['domestic_opening'].str.replace('$', '').str.replace(',', '')\n",
    "df['domestic_opening'] = pd.to_numeric(df['domestic_opening'])\n",
    "\n",
    "df['averageRating'] = pd.to_numeric(df['averageRating'])\n",
    "\n",
    "df['numVotes'] = pd.to_numeric(df['numVotes'])\n",
    "\n",
    "# Rename columns\n",
    "df=df.rename(columns={\"domestic\": \"Domestic_Gross\", \n",
    "                   \"international\": \"International_Gross\", \n",
    "                   \"worldwide\": \"Worldwide_Gross\",\n",
    "                   \"domestic_distributor\": \"Domestic_Distributor\",\n",
    "                   \"domestic_opening\": \"Domestic_Opening\",\n",
    "                   \"mpaa\": \"MPAA_Rating\",\n",
    "                   \"averageRating\": \"Average_Audience_Rating\",\n",
    "                   \"numVotes\": \"Number_Audience_Votes\"})\n",
    "\n",
    "df.info()"
   ]
  },
  {
   "cell_type": "code",
   "execution_count": 1,
   "id": "60048ef6",
   "metadata": {
    "scrolled": false
   },
   "outputs": [
    {
     "ename": "NameError",
     "evalue": "name 'df' is not defined",
     "output_type": "error",
     "traceback": [
      "\u001b[0;31m---------------------------------------------------------------------------\u001b[0m",
      "\u001b[0;31mNameError\u001b[0m                                 Traceback (most recent call last)",
      "\u001b[0;32m<ipython-input-1-3d22a2f62411>\u001b[0m in \u001b[0;36m<module>\u001b[0;34m\u001b[0m\n\u001b[1;32m      1\u001b[0m \u001b[0;31m# Create new boolean columns for the movie genres\u001b[0m\u001b[0;34m\u001b[0m\u001b[0;34m\u001b[0m\u001b[0;34m\u001b[0m\u001b[0m\n\u001b[0;32m----> 2\u001b[0;31m \u001b[0mnew_genres\u001b[0m \u001b[0;34m=\u001b[0m \u001b[0mdf\u001b[0m\u001b[0;34m[\u001b[0m\u001b[0;34m'Genres'\u001b[0m\u001b[0;34m]\u001b[0m\u001b[0;34m.\u001b[0m\u001b[0mstr\u001b[0m\u001b[0;34m.\u001b[0m\u001b[0mget_dummies\u001b[0m\u001b[0;34m(\u001b[0m\u001b[0;34m'\\n    \\n        '\u001b[0m\u001b[0;34m)\u001b[0m\u001b[0;34m\u001b[0m\u001b[0;34m\u001b[0m\u001b[0m\n\u001b[0m\u001b[1;32m      3\u001b[0m \u001b[0mdf\u001b[0m \u001b[0;34m=\u001b[0m \u001b[0mdf\u001b[0m\u001b[0;34m.\u001b[0m\u001b[0mjoin\u001b[0m\u001b[0;34m(\u001b[0m\u001b[0mnew_genres\u001b[0m\u001b[0;34m)\u001b[0m\u001b[0;34m\u001b[0m\u001b[0;34m\u001b[0m\u001b[0m\n\u001b[1;32m      4\u001b[0m \u001b[0;34m\u001b[0m\u001b[0m\n\u001b[1;32m      5\u001b[0m \u001b[0mdf\u001b[0m\u001b[0;34m.\u001b[0m\u001b[0minfo\u001b[0m\u001b[0;34m(\u001b[0m\u001b[0;34m)\u001b[0m\u001b[0;34m\u001b[0m\u001b[0;34m\u001b[0m\u001b[0m\n",
      "\u001b[0;31mNameError\u001b[0m: name 'df' is not defined"
     ]
    }
   ],
   "source": [
    "# Create new boolean columns for the movie genres\n",
    "new_genres = df['Genres'].str.get_dummies('\\n    \\n        ')\n",
    "df = df.join(new_genres)\n",
    "\n",
    "df.info()"
   ]
  },
  {
   "cell_type": "code",
   "execution_count": 169,
   "id": "5c93ce47",
   "metadata": {},
   "outputs": [
    {
     "name": "stdout",
     "output_type": "stream",
     "text": [
      "<class 'pandas.core.frame.DataFrame'>\n",
      "RangeIndex: 7989 entries, 0 to 7988\n",
      "Data columns (total 24 columns):\n",
      " #   Column                   Non-Null Count  Dtype  \n",
      "---  ------                   --------------  -----  \n",
      " 0   Tomatoes URL             7989 non-null   object \n",
      " 1   Title                    7989 non-null   object \n",
      " 2   Tomatometer              7989 non-null   int64  \n",
      " 3   Year                     7989 non-null   int64  \n",
      " 4   N_Tomatometer            7989 non-null   int64  \n",
      " 5   tconst                   7989 non-null   object \n",
      " 6   isAdult                  7989 non-null   int64  \n",
      " 7   runtimeMinutes           7965 non-null   float64\n",
      " 8   Average_Audience_Rating  7989 non-null   float64\n",
      " 9   Number_Audience_Votes    7989 non-null   int64  \n",
      " 10  BOM url                  7989 non-null   object \n",
      " 11  Domestic_Gross           5362 non-null   float64\n",
      " 12  International_Gross      4294 non-null   float64\n",
      " 13  Worldwide_Gross          6315 non-null   float64\n",
      " 14  Domestic_Distributor     5632 non-null   object \n",
      " 15  Domestic_Opening         5097 non-null   float64\n",
      " 16  MPAA_Rating              7989 non-null   object \n",
      " 17  Genres                   7984 non-null   object \n",
      " 18  G                        7989 non-null   int64  \n",
      " 19  NC-17                    7989 non-null   int64  \n",
      " 20  PG                       7989 non-null   int64  \n",
      " 21  PG-13                    7989 non-null   int64  \n",
      " 22  R                        7989 non-null   int64  \n",
      " 23  Unrated                  7989 non-null   int64  \n",
      "dtypes: float64(6), int64(11), object(7)\n",
      "memory usage: 1.5+ MB\n"
     ]
    }
   ],
   "source": [
    "# Fill all unrated movies with string 'Unrated'\n",
    "df['MPAA_Rating'] = df['MPAA_Rating'].fillna('Unrated')\n",
    "\n",
    "# Create new boolean columns for MPAA ratings (or unrated)\n",
    "MPAA = df['MPAA_Rating'].str.get_dummies(' ')\n",
    "df = df.join(MPAA)\n",
    "df.info()"
   ]
  },
  {
   "cell_type": "code",
   "execution_count": null,
   "id": "cfec7beb",
   "metadata": {},
   "outputs": [],
   "source": []
  },
  {
   "cell_type": "code",
   "execution_count": 163,
   "id": "79b84025",
   "metadata": {},
   "outputs": [],
   "source": [
    "df.to_csv('data_for_analysis.csv')"
   ]
  },
  {
   "cell_type": "code",
   "execution_count": null,
   "id": "2309aa82",
   "metadata": {},
   "outputs": [],
   "source": []
  }
 ],
 "metadata": {
  "kernelspec": {
   "display_name": "Python 3",
   "language": "python",
   "name": "python3"
  },
  "language_info": {
   "codemirror_mode": {
    "name": "ipython",
    "version": 3
   },
   "file_extension": ".py",
   "mimetype": "text/x-python",
   "name": "python",
   "nbconvert_exporter": "python",
   "pygments_lexer": "ipython3",
   "version": "3.8.8"
  }
 },
 "nbformat": 4,
 "nbformat_minor": 5
}
