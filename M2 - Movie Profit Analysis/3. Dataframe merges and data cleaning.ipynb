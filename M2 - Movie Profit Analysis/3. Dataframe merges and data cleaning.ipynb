{
 "cells": [
  {
   "cell_type": "code",
   "execution_count": 26,
   "id": "079f4a6a",
   "metadata": {},
   "outputs": [],
   "source": [
    "import pandas as pd\n",
    "import numpy as np\n",
    "\n",
    "\n",
    "# Display full column width (for the links)\n",
    "pd.set_option('display.max_colwidth', None)"
   ]
  },
  {
   "cell_type": "code",
   "execution_count": 27,
   "id": "526b8c52",
   "metadata": {},
   "outputs": [],
   "source": [
    "def read_csvs(filelist):\n",
    "    df = pd.DataFrame()\n",
    "    for file in filelist:\n",
    "        sub_df = pd.read_csv(file, index_col=[0])\n",
    "        df = pd.concat([df,sub_df])\n",
    "    return df"
   ]
  },
  {
   "cell_type": "code",
   "execution_count": 28,
   "id": "d7022fa8",
   "metadata": {},
   "outputs": [
    {
     "data": {
      "text/plain": "     Unnamed: 0.1  \\\n0               0   \n1               1   \n2               2   \n3               3   \n4               4   \n..            ...   \n984          7984   \n985          7985   \n986          7986   \n987          7987   \n988          7988   \n\n                                                       Tomatoes URL  \\\n0                       https://www.rottentomatoes.com/m/the_second   \n1            https://www.rottentomatoes.com/m/needle_in_a_timestack   \n2    https://www.rottentomatoes.com/m/adventures_of_a_mathematician   \n3                        https://www.rottentomatoes.com/m/de_gaulle   \n4                  https://www.rottentomatoes.com/m/the_estate_2021   \n..                                                              ...   \n984                     https://www.rottentomatoes.com/m/maniac_cop   \n985                     https://www.rottentomatoes.com/m/devils_own   \n986            https://www.rottentomatoes.com/m/single_white_female   \n987               https://www.rottentomatoes.com/m/high_school_high   \n988                         https://www.rottentomatoes.com/m/asphyx   \n\n                             Title Tomatometer  Year  N_Tomatometer  \\\n0                       The Second         63%  2018              8   \n1            Needle in a Timestack         34%  2021             48   \n2    Adventures of a Mathematician         50%  2020             10   \n3                        De Gaulle         40%  2020             10   \n4                       The Estate         33%  2020              9   \n..                             ...         ...   ...            ...   \n984                     Maniac Cop         50%  1988             15   \n985                The Devil's Own         35%  1997             40   \n986            Single White Female         53%  1992             49   \n987               High School High         19%  1996             16   \n988                     The Asphyx         67%  1972              6   \n\n         tconst  isAdult runtimeMinutes                   genres  \\\n0     tt5636922        0             94   Drama,Mystery,Thriller   \n1     tt7099280        0            111    Drama,Fantasy,Romance   \n2     tt6875374        0            102          Biography,Drama   \n3    tt10880402        0            108  Biography,Drama,History   \n4    tt10740928        0             85          Comedy,Thriller   \n..          ...      ...            ...                      ...   \n984   tt0095583        0             85      Action,Crime,Horror   \n985   tt0118972        0            111       Action,Crime,Drama   \n986   tt0105414        0            107           Drama,Thriller   \n987   tt0116531        0             86     Comedy,Crime,Romance   \n988   tt0069738        0             99            Horror,Sci-Fi   \n\n     averageRating  numVotes                                          BOM url  \\\n0              4.9       317   https://www.boxofficemojo.com/title/tt5636922/   \n1              4.3       550   https://www.boxofficemojo.com/title/tt7099280/   \n2              5.5       238   https://www.boxofficemojo.com/title/tt6875374/   \n3              6.0      1207  https://www.boxofficemojo.com/title/tt10880402/   \n4              4.4       204  https://www.boxofficemojo.com/title/tt10740928/   \n..             ...       ...                                              ...   \n984            6.1     16065   https://www.boxofficemojo.com/title/tt0095583/   \n985            6.2     63336   https://www.boxofficemojo.com/title/tt0118972/   \n986            6.4     35357   https://www.boxofficemojo.com/title/tt0105414/   \n987            5.5     13201   https://www.boxofficemojo.com/title/tt0116531/   \n988            6.3      2482   https://www.boxofficemojo.com/title/tt0069738/   \n\n        domestic international     worldwide  \\\n0            NaN           NaN           NaN   \n1            NaN           NaN           NaN   \n2              –        $1,275        $1,275   \n3              –    $7,501,454    $7,501,454   \n4            NaN           NaN           NaN   \n..           ...           ...           ...   \n984     $671,382             –      $671,382   \n985  $42,868,348   $97,939,199  $140,807,547   \n986  $48,017,402             –   $48,017,402   \n987  $21,302,121             –   $21,302,121   \n988          NaN           NaN           NaN   \n\n                                                  domestic_distributor  \\\n0                                                                  NaN   \n1                                                                  NaN   \n2                                                                  NaN   \n3                                                                  NaN   \n4                                                                  NaN   \n..                                                                 ...   \n984                                  Shapiro-Glickenhaus Entertainment   \n985  Sony Pictures Entertainment (SPE)See full company information\\n\\n   \n986                  Columbia PicturesSee full company information\\n\\n   \n987  Sony Pictures Entertainment (SPE)See full company information\\n\\n   \n988                                                                NaN   \n\n    domestic_opening   mpaa  \\\n0                NaN    NaN   \n1                NaN      R   \n2                NaN    NaN   \n3                NaN    NaN   \n4                NaN      R   \n..               ...    ...   \n984              NaN    NaN   \n985      $14,274,503      R   \n986      $10,212,401      R   \n987       $6,311,786  PG-13   \n988              NaN    NaN   \n\n                                                                        Genres  \n0                         Drama\\n    \\n        Mystery\\n    \\n        Thriller  \n1    Drama\\n    \\n        Fantasy\\n    \\n        Romance\\n    \\n        Sci-Fi  \n2                                               Biography\\n    \\n        Drama  \n3                        Biography\\n    \\n        Drama\\n    \\n        History  \n4                                               Comedy\\n    \\n        Thriller  \n..                                                                         ...  \n984   Action\\n    \\n        Crime\\n    \\n        Horror\\n    \\n        Mystery  \n985   Action\\n    \\n        Crime\\n    \\n        Drama\\n    \\n        Thriller  \n986                                              Drama\\n    \\n        Thriller  \n987                         Comedy\\n    \\n        Crime\\n    \\n        Romance  \n988                                               Horror\\n    \\n        Sci-Fi  \n\n[7989 rows x 20 columns]",
      "text/html": "<div>\n<style scoped>\n    .dataframe tbody tr th:only-of-type {\n        vertical-align: middle;\n    }\n\n    .dataframe tbody tr th {\n        vertical-align: top;\n    }\n\n    .dataframe thead th {\n        text-align: right;\n    }\n</style>\n<table border=\"1\" class=\"dataframe\">\n  <thead>\n    <tr style=\"text-align: right;\">\n      <th></th>\n      <th>Unnamed: 0.1</th>\n      <th>Tomatoes URL</th>\n      <th>Title</th>\n      <th>Tomatometer</th>\n      <th>Year</th>\n      <th>N_Tomatometer</th>\n      <th>tconst</th>\n      <th>isAdult</th>\n      <th>runtimeMinutes</th>\n      <th>genres</th>\n      <th>averageRating</th>\n      <th>numVotes</th>\n      <th>BOM url</th>\n      <th>domestic</th>\n      <th>international</th>\n      <th>worldwide</th>\n      <th>domestic_distributor</th>\n      <th>domestic_opening</th>\n      <th>mpaa</th>\n      <th>Genres</th>\n    </tr>\n  </thead>\n  <tbody>\n    <tr>\n      <th>0</th>\n      <td>0</td>\n      <td>https://www.rottentomatoes.com/m/the_second</td>\n      <td>The Second</td>\n      <td>63%</td>\n      <td>2018</td>\n      <td>8</td>\n      <td>tt5636922</td>\n      <td>0</td>\n      <td>94</td>\n      <td>Drama,Mystery,Thriller</td>\n      <td>4.9</td>\n      <td>317</td>\n      <td>https://www.boxofficemojo.com/title/tt5636922/</td>\n      <td>NaN</td>\n      <td>NaN</td>\n      <td>NaN</td>\n      <td>NaN</td>\n      <td>NaN</td>\n      <td>NaN</td>\n      <td>Drama\\n    \\n        Mystery\\n    \\n        Thriller</td>\n    </tr>\n    <tr>\n      <th>1</th>\n      <td>1</td>\n      <td>https://www.rottentomatoes.com/m/needle_in_a_timestack</td>\n      <td>Needle in a Timestack</td>\n      <td>34%</td>\n      <td>2021</td>\n      <td>48</td>\n      <td>tt7099280</td>\n      <td>0</td>\n      <td>111</td>\n      <td>Drama,Fantasy,Romance</td>\n      <td>4.3</td>\n      <td>550</td>\n      <td>https://www.boxofficemojo.com/title/tt7099280/</td>\n      <td>NaN</td>\n      <td>NaN</td>\n      <td>NaN</td>\n      <td>NaN</td>\n      <td>NaN</td>\n      <td>R</td>\n      <td>Drama\\n    \\n        Fantasy\\n    \\n        Romance\\n    \\n        Sci-Fi</td>\n    </tr>\n    <tr>\n      <th>2</th>\n      <td>2</td>\n      <td>https://www.rottentomatoes.com/m/adventures_of_a_mathematician</td>\n      <td>Adventures of a Mathematician</td>\n      <td>50%</td>\n      <td>2020</td>\n      <td>10</td>\n      <td>tt6875374</td>\n      <td>0</td>\n      <td>102</td>\n      <td>Biography,Drama</td>\n      <td>5.5</td>\n      <td>238</td>\n      <td>https://www.boxofficemojo.com/title/tt6875374/</td>\n      <td>–</td>\n      <td>$1,275</td>\n      <td>$1,275</td>\n      <td>NaN</td>\n      <td>NaN</td>\n      <td>NaN</td>\n      <td>Biography\\n    \\n        Drama</td>\n    </tr>\n    <tr>\n      <th>3</th>\n      <td>3</td>\n      <td>https://www.rottentomatoes.com/m/de_gaulle</td>\n      <td>De Gaulle</td>\n      <td>40%</td>\n      <td>2020</td>\n      <td>10</td>\n      <td>tt10880402</td>\n      <td>0</td>\n      <td>108</td>\n      <td>Biography,Drama,History</td>\n      <td>6.0</td>\n      <td>1207</td>\n      <td>https://www.boxofficemojo.com/title/tt10880402/</td>\n      <td>–</td>\n      <td>$7,501,454</td>\n      <td>$7,501,454</td>\n      <td>NaN</td>\n      <td>NaN</td>\n      <td>NaN</td>\n      <td>Biography\\n    \\n        Drama\\n    \\n        History</td>\n    </tr>\n    <tr>\n      <th>4</th>\n      <td>4</td>\n      <td>https://www.rottentomatoes.com/m/the_estate_2021</td>\n      <td>The Estate</td>\n      <td>33%</td>\n      <td>2020</td>\n      <td>9</td>\n      <td>tt10740928</td>\n      <td>0</td>\n      <td>85</td>\n      <td>Comedy,Thriller</td>\n      <td>4.4</td>\n      <td>204</td>\n      <td>https://www.boxofficemojo.com/title/tt10740928/</td>\n      <td>NaN</td>\n      <td>NaN</td>\n      <td>NaN</td>\n      <td>NaN</td>\n      <td>NaN</td>\n      <td>R</td>\n      <td>Comedy\\n    \\n        Thriller</td>\n    </tr>\n    <tr>\n      <th>...</th>\n      <td>...</td>\n      <td>...</td>\n      <td>...</td>\n      <td>...</td>\n      <td>...</td>\n      <td>...</td>\n      <td>...</td>\n      <td>...</td>\n      <td>...</td>\n      <td>...</td>\n      <td>...</td>\n      <td>...</td>\n      <td>...</td>\n      <td>...</td>\n      <td>...</td>\n      <td>...</td>\n      <td>...</td>\n      <td>...</td>\n      <td>...</td>\n      <td>...</td>\n    </tr>\n    <tr>\n      <th>984</th>\n      <td>7984</td>\n      <td>https://www.rottentomatoes.com/m/maniac_cop</td>\n      <td>Maniac Cop</td>\n      <td>50%</td>\n      <td>1988</td>\n      <td>15</td>\n      <td>tt0095583</td>\n      <td>0</td>\n      <td>85</td>\n      <td>Action,Crime,Horror</td>\n      <td>6.1</td>\n      <td>16065</td>\n      <td>https://www.boxofficemojo.com/title/tt0095583/</td>\n      <td>$671,382</td>\n      <td>–</td>\n      <td>$671,382</td>\n      <td>Shapiro-Glickenhaus Entertainment</td>\n      <td>NaN</td>\n      <td>NaN</td>\n      <td>Action\\n    \\n        Crime\\n    \\n        Horror\\n    \\n        Mystery</td>\n    </tr>\n    <tr>\n      <th>985</th>\n      <td>7985</td>\n      <td>https://www.rottentomatoes.com/m/devils_own</td>\n      <td>The Devil's Own</td>\n      <td>35%</td>\n      <td>1997</td>\n      <td>40</td>\n      <td>tt0118972</td>\n      <td>0</td>\n      <td>111</td>\n      <td>Action,Crime,Drama</td>\n      <td>6.2</td>\n      <td>63336</td>\n      <td>https://www.boxofficemojo.com/title/tt0118972/</td>\n      <td>$42,868,348</td>\n      <td>$97,939,199</td>\n      <td>$140,807,547</td>\n      <td>Sony Pictures Entertainment (SPE)See full company information\\n\\n</td>\n      <td>$14,274,503</td>\n      <td>R</td>\n      <td>Action\\n    \\n        Crime\\n    \\n        Drama\\n    \\n        Thriller</td>\n    </tr>\n    <tr>\n      <th>986</th>\n      <td>7986</td>\n      <td>https://www.rottentomatoes.com/m/single_white_female</td>\n      <td>Single White Female</td>\n      <td>53%</td>\n      <td>1992</td>\n      <td>49</td>\n      <td>tt0105414</td>\n      <td>0</td>\n      <td>107</td>\n      <td>Drama,Thriller</td>\n      <td>6.4</td>\n      <td>35357</td>\n      <td>https://www.boxofficemojo.com/title/tt0105414/</td>\n      <td>$48,017,402</td>\n      <td>–</td>\n      <td>$48,017,402</td>\n      <td>Columbia PicturesSee full company information\\n\\n</td>\n      <td>$10,212,401</td>\n      <td>R</td>\n      <td>Drama\\n    \\n        Thriller</td>\n    </tr>\n    <tr>\n      <th>987</th>\n      <td>7987</td>\n      <td>https://www.rottentomatoes.com/m/high_school_high</td>\n      <td>High School High</td>\n      <td>19%</td>\n      <td>1996</td>\n      <td>16</td>\n      <td>tt0116531</td>\n      <td>0</td>\n      <td>86</td>\n      <td>Comedy,Crime,Romance</td>\n      <td>5.5</td>\n      <td>13201</td>\n      <td>https://www.boxofficemojo.com/title/tt0116531/</td>\n      <td>$21,302,121</td>\n      <td>–</td>\n      <td>$21,302,121</td>\n      <td>Sony Pictures Entertainment (SPE)See full company information\\n\\n</td>\n      <td>$6,311,786</td>\n      <td>PG-13</td>\n      <td>Comedy\\n    \\n        Crime\\n    \\n        Romance</td>\n    </tr>\n    <tr>\n      <th>988</th>\n      <td>7988</td>\n      <td>https://www.rottentomatoes.com/m/asphyx</td>\n      <td>The Asphyx</td>\n      <td>67%</td>\n      <td>1972</td>\n      <td>6</td>\n      <td>tt0069738</td>\n      <td>0</td>\n      <td>99</td>\n      <td>Horror,Sci-Fi</td>\n      <td>6.3</td>\n      <td>2482</td>\n      <td>https://www.boxofficemojo.com/title/tt0069738/</td>\n      <td>NaN</td>\n      <td>NaN</td>\n      <td>NaN</td>\n      <td>NaN</td>\n      <td>NaN</td>\n      <td>NaN</td>\n      <td>Horror\\n    \\n        Sci-Fi</td>\n    </tr>\n  </tbody>\n</table>\n<p>7989 rows × 20 columns</p>\n</div>"
     },
     "execution_count": 28,
     "metadata": {},
     "output_type": "execute_result"
    }
   ],
   "source": [
    "filelist = ['full_0_1999.csv', 'full_2000_2999.csv', 'full_3000_4999.csv', 'full_5000_6999.csv', 'full_7000_7990.csv']\n",
    "df = read_csvs(filelist)\n",
    "df"
   ]
  },
  {
   "cell_type": "code",
   "execution_count": 29,
   "id": "426d5ec8",
   "metadata": {
    "scrolled": true
   },
   "outputs": [],
   "source": [
    "# drop a couple of columns that are not useful\n",
    "df.drop(['Unnamed: 0.1'],axis=1,inplace = True)\n",
    "df.drop(['genres'], axis = 1, inplace = True)"
   ]
  },
  {
   "cell_type": "markdown",
   "id": "a5d9d75d",
   "metadata": {},
   "source": [
    "## Clean final movies dataframe"
   ]
  },
  {
   "cell_type": "code",
   "execution_count": 30,
   "id": "eb6213a7",
   "metadata": {
    "scrolled": false
   },
   "outputs": [
    {
     "name": "stderr",
     "output_type": "stream",
     "text": [
      "/var/folders/3f/mz234sr94pz4c5bj6htds_100000gp/T/ipykernel_5830/3267240257.py:13: FutureWarning: The default value of regex will change from True to False in a future version. In addition, single character regular expressions will *not* be treated as literal strings when regex=True.\n",
      "  df[column] = df[column].str.replace('$', '')\n"
     ]
    },
    {
     "name": "stdout",
     "output_type": "stream",
     "text": [
      "<class 'pandas.core.frame.DataFrame'>\n",
      "Int64Index: 7989 entries, 0 to 988\n",
      "Data columns (total 18 columns):\n",
      " #   Column                   Non-Null Count  Dtype  \n",
      "---  ------                   --------------  -----  \n",
      " 0   Tomatoes URL             7989 non-null   object \n",
      " 1   Title                    7989 non-null   object \n",
      " 2   Tomatometer              7989 non-null   int64  \n",
      " 3   Year                     7989 non-null   int64  \n",
      " 4   N_Tomatometer            7989 non-null   int64  \n",
      " 5   tconst                   7989 non-null   object \n",
      " 6   isAdult                  7989 non-null   int64  \n",
      " 7   runtimeMinutes           7965 non-null   float64\n",
      " 8   Average_Audience_Rating  7989 non-null   float64\n",
      " 9   Number_Audience_Votes    7989 non-null   int64  \n",
      " 10  BOM url                  7989 non-null   object \n",
      " 11  Domestic_Gross           5362 non-null   float64\n",
      " 12  International_Gross      4294 non-null   float64\n",
      " 13  Worldwide_Gross          6315 non-null   float64\n",
      " 14  Domestic_Distributor     5632 non-null   object \n",
      " 15  Domestic_Opening         5097 non-null   float64\n",
      " 16  MPAA_Rating              5194 non-null   object \n",
      " 17  Genres                   7984 non-null   object \n",
      "dtypes: float64(6), int64(5), object(7)\n",
      "memory usage: 1.2+ MB\n"
     ]
    }
   ],
   "source": [
    "columns_to_clean = ['Tomatometer', 'Year', 'N_Tomatometer', 'isAdult', 'runtimeMinutes', \n",
    "                    'domestic', 'international', 'worldwide', 'domestic_opening', \n",
    "                    'averageRating', 'numVotes']\n",
    "\n",
    "for column in columns_to_clean:\n",
    "    if column == 'Tomatometer':\n",
    "        df[column] = df[column].str[:-1]\n",
    "    if column == 'runtimeMinutes':\n",
    "        df[column].replace(to_replace=r\"\\N\", value='', inplace=True)\n",
    "    df=df.replace('–', np.nan)\n",
    "    df[column] = df[column].astype(str)\n",
    "    df[column] = df[column].str.replace('%', '')\n",
    "    df[column] = df[column].str.replace('$', '')\n",
    "    df[column] = df[column].str.replace(',', '')\n",
    "    df[column] = pd.to_numeric(df[column], errors='coerce') # coerce to ignore NaN values\n",
    "\n",
    "# Rename columns\n",
    "df=df.rename(columns={\"domestic\": \"Domestic_Gross\", \n",
    "                   \"international\": \"International_Gross\", \n",
    "                   \"worldwide\": \"Worldwide_Gross\",\n",
    "                   \"domestic_distributor\": \"Domestic_Distributor\",\n",
    "                   \"domestic_opening\": \"Domestic_Opening\",\n",
    "                   \"mpaa\": \"MPAA_Rating\",\n",
    "                   \"averageRating\": \"Average_Audience_Rating\",\n",
    "                   \"numVotes\": \"Number_Audience_Votes\"})\n",
    "\n",
    "df.info()\n"
   ]
  },
  {
   "cell_type": "code",
   "execution_count": 31,
   "outputs": [
    {
     "data": {
      "text/plain": "                                                     Tomatoes URL  \\\n0                     https://www.rottentomatoes.com/m/the_second   \n1          https://www.rottentomatoes.com/m/needle_in_a_timestack   \n2  https://www.rottentomatoes.com/m/adventures_of_a_mathematician   \n3                      https://www.rottentomatoes.com/m/de_gaulle   \n4                https://www.rottentomatoes.com/m/the_estate_2021   \n\n                           Title  Tomatometer  Year  N_Tomatometer  \\\n0                     The Second           63  2018              8   \n1          Needle in a Timestack           34  2021             48   \n2  Adventures of a Mathematician           50  2020             10   \n3                      De Gaulle           40  2020             10   \n4                     The Estate           33  2020              9   \n\n       tconst  isAdult  runtimeMinutes  Average_Audience_Rating  \\\n0   tt5636922        0            94.0                      4.9   \n1   tt7099280        0           111.0                      4.3   \n2   tt6875374        0           102.0                      5.5   \n3  tt10880402        0           108.0                      6.0   \n4  tt10740928        0            85.0                      4.4   \n\n   Number_Audience_Votes                                          BOM url  \\\n0                    317   https://www.boxofficemojo.com/title/tt5636922/   \n1                    550   https://www.boxofficemojo.com/title/tt7099280/   \n2                    238   https://www.boxofficemojo.com/title/tt6875374/   \n3                   1207  https://www.boxofficemojo.com/title/tt10880402/   \n4                    204  https://www.boxofficemojo.com/title/tt10740928/   \n\n   Domestic_Gross  International_Gross  Worldwide_Gross Domestic_Distributor  \\\n0             NaN                  NaN              NaN                  NaN   \n1             NaN                  NaN              NaN                  NaN   \n2             NaN               1275.0           1275.0                  NaN   \n3             NaN            7501454.0        7501454.0                  NaN   \n4             NaN                  NaN              NaN                  NaN   \n\n   Domestic_Opening MPAA_Rating  \\\n0               NaN         NaN   \n1               NaN           R   \n2               NaN         NaN   \n3               NaN         NaN   \n4               NaN           R   \n\n                                                                      Genres  \n0                       Drama\\n    \\n        Mystery\\n    \\n        Thriller  \n1  Drama\\n    \\n        Fantasy\\n    \\n        Romance\\n    \\n        Sci-Fi  \n2                                             Biography\\n    \\n        Drama  \n3                      Biography\\n    \\n        Drama\\n    \\n        History  \n4                                             Comedy\\n    \\n        Thriller  ",
      "text/html": "<div>\n<style scoped>\n    .dataframe tbody tr th:only-of-type {\n        vertical-align: middle;\n    }\n\n    .dataframe tbody tr th {\n        vertical-align: top;\n    }\n\n    .dataframe thead th {\n        text-align: right;\n    }\n</style>\n<table border=\"1\" class=\"dataframe\">\n  <thead>\n    <tr style=\"text-align: right;\">\n      <th></th>\n      <th>Tomatoes URL</th>\n      <th>Title</th>\n      <th>Tomatometer</th>\n      <th>Year</th>\n      <th>N_Tomatometer</th>\n      <th>tconst</th>\n      <th>isAdult</th>\n      <th>runtimeMinutes</th>\n      <th>Average_Audience_Rating</th>\n      <th>Number_Audience_Votes</th>\n      <th>BOM url</th>\n      <th>Domestic_Gross</th>\n      <th>International_Gross</th>\n      <th>Worldwide_Gross</th>\n      <th>Domestic_Distributor</th>\n      <th>Domestic_Opening</th>\n      <th>MPAA_Rating</th>\n      <th>Genres</th>\n    </tr>\n  </thead>\n  <tbody>\n    <tr>\n      <th>0</th>\n      <td>https://www.rottentomatoes.com/m/the_second</td>\n      <td>The Second</td>\n      <td>63</td>\n      <td>2018</td>\n      <td>8</td>\n      <td>tt5636922</td>\n      <td>0</td>\n      <td>94.0</td>\n      <td>4.9</td>\n      <td>317</td>\n      <td>https://www.boxofficemojo.com/title/tt5636922/</td>\n      <td>NaN</td>\n      <td>NaN</td>\n      <td>NaN</td>\n      <td>NaN</td>\n      <td>NaN</td>\n      <td>NaN</td>\n      <td>Drama\\n    \\n        Mystery\\n    \\n        Thriller</td>\n    </tr>\n    <tr>\n      <th>1</th>\n      <td>https://www.rottentomatoes.com/m/needle_in_a_timestack</td>\n      <td>Needle in a Timestack</td>\n      <td>34</td>\n      <td>2021</td>\n      <td>48</td>\n      <td>tt7099280</td>\n      <td>0</td>\n      <td>111.0</td>\n      <td>4.3</td>\n      <td>550</td>\n      <td>https://www.boxofficemojo.com/title/tt7099280/</td>\n      <td>NaN</td>\n      <td>NaN</td>\n      <td>NaN</td>\n      <td>NaN</td>\n      <td>NaN</td>\n      <td>R</td>\n      <td>Drama\\n    \\n        Fantasy\\n    \\n        Romance\\n    \\n        Sci-Fi</td>\n    </tr>\n    <tr>\n      <th>2</th>\n      <td>https://www.rottentomatoes.com/m/adventures_of_a_mathematician</td>\n      <td>Adventures of a Mathematician</td>\n      <td>50</td>\n      <td>2020</td>\n      <td>10</td>\n      <td>tt6875374</td>\n      <td>0</td>\n      <td>102.0</td>\n      <td>5.5</td>\n      <td>238</td>\n      <td>https://www.boxofficemojo.com/title/tt6875374/</td>\n      <td>NaN</td>\n      <td>1275.0</td>\n      <td>1275.0</td>\n      <td>NaN</td>\n      <td>NaN</td>\n      <td>NaN</td>\n      <td>Biography\\n    \\n        Drama</td>\n    </tr>\n    <tr>\n      <th>3</th>\n      <td>https://www.rottentomatoes.com/m/de_gaulle</td>\n      <td>De Gaulle</td>\n      <td>40</td>\n      <td>2020</td>\n      <td>10</td>\n      <td>tt10880402</td>\n      <td>0</td>\n      <td>108.0</td>\n      <td>6.0</td>\n      <td>1207</td>\n      <td>https://www.boxofficemojo.com/title/tt10880402/</td>\n      <td>NaN</td>\n      <td>7501454.0</td>\n      <td>7501454.0</td>\n      <td>NaN</td>\n      <td>NaN</td>\n      <td>NaN</td>\n      <td>Biography\\n    \\n        Drama\\n    \\n        History</td>\n    </tr>\n    <tr>\n      <th>4</th>\n      <td>https://www.rottentomatoes.com/m/the_estate_2021</td>\n      <td>The Estate</td>\n      <td>33</td>\n      <td>2020</td>\n      <td>9</td>\n      <td>tt10740928</td>\n      <td>0</td>\n      <td>85.0</td>\n      <td>4.4</td>\n      <td>204</td>\n      <td>https://www.boxofficemojo.com/title/tt10740928/</td>\n      <td>NaN</td>\n      <td>NaN</td>\n      <td>NaN</td>\n      <td>NaN</td>\n      <td>NaN</td>\n      <td>R</td>\n      <td>Comedy\\n    \\n        Thriller</td>\n    </tr>\n  </tbody>\n</table>\n</div>"
     },
     "execution_count": 31,
     "metadata": {},
     "output_type": "execute_result"
    }
   ],
   "source": [
    "df.head()"
   ],
   "metadata": {
    "collapsed": false
   }
  },
  {
   "cell_type": "code",
   "execution_count": 32,
   "id": "c00ae974",
   "metadata": {},
   "outputs": [],
   "source": [
    "# save to pickle\n",
    "df.to_pickle(\"prep_data.pkl\")"
   ]
  },
  {
   "cell_type": "code",
   "execution_count": 34,
   "id": "073ca08d",
   "metadata": {
    "scrolled": true
   },
   "outputs": [
    {
     "data": {
      "text/plain": "(7989, 43)"
     },
     "execution_count": 34,
     "metadata": {},
     "output_type": "execute_result"
    }
   ],
   "source": [
    "# Create additional boolean columns for movie genres\n",
    "df['Genres']=df['Genres'].str.replace('\\n    \\n        ', ',') # clean up newlines / spaces and replace with commas\n",
    "dummy_genres = df['Genres'].str.get_dummies(',')\n",
    "df = pd.concat([df, dummy_genres], axis=1)\n",
    "df.shape"
   ]
  },
  {
   "cell_type": "code",
   "execution_count": 35,
   "id": "5c93ce47",
   "metadata": {},
   "outputs": [
    {
     "data": {
      "text/plain": "(7989, 49)"
     },
     "execution_count": 35,
     "metadata": {},
     "output_type": "execute_result"
    }
   ],
   "source": [
    "# Fill all unrated movies with string 'Unrated'\n",
    "df['MPAA_Rating'] = df['MPAA_Rating'].fillna('Unrated')\n",
    "\n",
    "# Create additional boolean columns for MPAA ratings (or unrated)\n",
    "MPAA = df['MPAA_Rating'].str.get_dummies(' ')\n",
    "df = pd.concat([df, MPAA], axis=1)\n",
    "# df = df.join(MPAA)\n",
    "df.shape"
   ]
  },
  {
   "cell_type": "code",
   "execution_count": 36,
   "id": "79b84025",
   "metadata": {},
   "outputs": [],
   "source": [
    "df.to_csv('data_for_analysis.csv')"
   ]
  },
  {
   "cell_type": "code",
   "execution_count": null,
   "outputs": [],
   "source": [],
   "metadata": {
    "collapsed": false
   }
  }
 ],
 "metadata": {
  "kernelspec": {
   "display_name": "Python 3",
   "language": "python",
   "name": "python3"
  },
  "language_info": {
   "codemirror_mode": {
    "name": "ipython",
    "version": 3
   },
   "file_extension": ".py",
   "mimetype": "text/x-python",
   "name": "python",
   "nbconvert_exporter": "python",
   "pygments_lexer": "ipython3",
   "version": "3.8.8"
  }
 },
 "nbformat": 4,
 "nbformat_minor": 5
}
